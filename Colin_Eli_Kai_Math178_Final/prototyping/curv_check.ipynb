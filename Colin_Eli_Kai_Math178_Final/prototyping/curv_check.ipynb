{
 "cells": [
  {
   "cell_type": "code",
   "execution_count": 184,
   "metadata": {},
   "outputs": [],
   "source": [
    "import pandas as pd\n",
    "import numpy as np\n",
    "from scipy.interpolate import InterpolatedUnivariateSpline as IUS\n",
    "import scipy\n",
    "from sklearn.decomposition import PCA\n",
    "\n",
    "\n",
    "\n",
    "def spline_accelerometer(feature_vec, kk = 4):\n",
    "    \"\"\"\n",
    "    Given a 128 segment accelerometer feature vector separated\n",
    "    as [a_x1, a_y1, a_z1, a_x2, ... , a_z128]\n",
    "\n",
    "    we fit the data with a univariate spline\n",
    "    \"\"\"\n",
    "\n",
    "    xline = feature_vec[0::3]\n",
    "    yline = feature_vec[1::3]\n",
    "    zline = feature_vec[2::3]\n",
    "\n",
    "\n",
    "    #spline the accleration, aka alpha'\n",
    "    num = len(feature_vec)/3\n",
    "    t = np.arange(0,num) #define time interval\n",
    "    a_x_spline = IUS(t, xline, k = kk)\n",
    "    a_y_spline = IUS(t, yline, k = kk)\n",
    "    a_z_spline = IUS(t, zline, k = kk)\n",
    "\n",
    "    return a_x_spline, a_y_spline, a_z_spline\n",
    "\n",
    "\n",
    "def calc_torsion(feature_vec):\n",
    "    \"\"\"\n",
    "    given accelerometer feature vector (which we call alpha prime),\n",
    "    calculate the torsion at each 0.02 second time interval\n",
    "\n",
    "    by finding first and second derivatives of accelerometer data\n",
    "    \"\"\"\n",
    "    #get alpha\n",
    "    a_x_spline, a_y_spline, a_z_spline = spline_accelerometer(feature_vec)\n",
    "\n",
    "    #find alpha'\n",
    "    ap_x_spline = a_x_spline.derivative()\n",
    "    ap_y_spline = a_y_spline.derivative()\n",
    "    ap_z_spline = a_z_spline.derivative()\n",
    "\n",
    "    #find alpha''\n",
    "    app_x_spline = ap_x_spline.derivative()\n",
    "    app_y_spline = ap_y_spline.derivative()\n",
    "    app_z_spline = ap_z_spline.derivative()\n",
    "    \n",
    "    #find alpha'''\n",
    "    appp_x_spline = app_x_spline.derivative()\n",
    "    appp_y_spline = app_y_spline.derivative()\n",
    "    appp_z_spline = app_z_spline.derivative()\n",
    "\n",
    "    #define time interval\n",
    "    num = len(feature_vec)/3\n",
    "    t = np.arange(0,num) #define time interval\n",
    "\n",
    "    #calculate torsion\n",
    "    torL = []\n",
    "    for tt in t:\n",
    "        #calculate vector\n",
    "        v_1 = np.array([ap_x_spline(tt), ap_y_spline(tt), ap_z_spline(tt)])\n",
    "        v_2 = np.array([app_x_spline(tt), app_y_spline(tt), app_z_spline(tt)])\n",
    "        v_3 = np.array([appp_x_spline(tt), appp_y_spline(tt), appp_z_spline(tt)])\n",
    "\n",
    "        #calculate the torsion and shove it in list\n",
    "        torsion = 3 * np.linalg.det([v_1, v_2, v_3])  \\\n",
    "                   /np.linalg.norm(np.cross(v_1, v_2))**2\n",
    "        torL += [torsion]\n",
    "    return torL\n",
    "\n",
    "\n",
    "\n",
    "def calc_curvature(feature_vec):\n",
    "    \"\"\"\n",
    "    given accelerometer feature vector (which we call alpha prime),\n",
    "    calculate the curvature at each 0.02 second time interval\n",
    "\n",
    "    by finding first and second derivatives of accelerometer data\n",
    "    \"\"\"\n",
    "    #get alpha\n",
    "    a_x_spline, a_y_spline, a_z_spline = spline_accelerometer(feature_vec)\n",
    "\n",
    "    #find alpha'\n",
    "    ap_x_spline = a_x_spline.derivative()\n",
    "    ap_y_spline = a_y_spline.derivative()\n",
    "    ap_z_spline = a_z_spline.derivative()\n",
    "\n",
    "    #find alpha''\n",
    "    app_x_spline = ap_x_spline.derivative()\n",
    "    app_y_spline = ap_y_spline.derivative()\n",
    "    app_z_spline = ap_z_spline.derivative()\n",
    "    \n",
    "    #find alpha'''\n",
    "    appp_x_spline = app_x_spline.derivative()\n",
    "    appp_y_spline = app_y_spline.derivative()\n",
    "    appp_z_spline = app_z_spline.derivative()\n",
    "\n",
    "    #define time interval\n",
    "    num = len(feature_vec)/3\n",
    "    t = np.arange(0,num) #define time interval\n",
    "    #calculate curvature\n",
    "    curvL = []\n",
    "    for tt in t:\n",
    "        #calculate vector\n",
    "        v_1 = np.array([ap_x_spline(tt), ap_y_spline(tt), ap_z_spline(tt)])\n",
    "        v_2 = np.array([app_x_spline(tt), app_y_spline(tt), app_z_spline(tt)])\n",
    "\n",
    "        #calculate curvature\n",
    "        curvature = 2 * np.linalg.norm(np.cross(v_1, v_2)) \\\n",
    "                    /np.linalg.norm(v_1)**(3/2)\n",
    "        curvL += [curvature]\n",
    "\n",
    "    return curvL"
   ]
  },
  {
   "cell_type": "code",
   "execution_count": 198,
   "metadata": {},
   "outputs": [],
   "source": [
    "t = np.linspace(0, 100, 10000)\n",
    "hel = np.array([1 * np.cos(t), 4* np.sin(t), t])"
   ]
  },
  {
   "cell_type": "code",
   "execution_count": 199,
   "metadata": {},
   "outputs": [
    {
     "data": {
      "text/plain": [
       "array([  1.        ,   0.        ,   0.        , ...,   0.86231887,\n",
       "        -2.02546256, 100.        ])"
      ]
     },
     "execution_count": 199,
     "metadata": {},
     "output_type": "execute_result"
    }
   ],
   "source": [
    "test = hel.T.flatten()\n",
    "test"
   ]
  },
  {
   "cell_type": "code",
   "execution_count": 200,
   "metadata": {},
   "outputs": [],
   "source": [
    "import matplotlib.pyplot as plt"
   ]
  },
  {
   "cell_type": "code",
   "execution_count": 201,
   "metadata": {},
   "outputs": [],
   "source": [
    "from mpl_toolkits.mplot3d import Axes3D"
   ]
  },
  {
   "cell_type": "code",
   "execution_count": 202,
   "metadata": {},
   "outputs": [
    {
     "ename": "SyntaxError",
     "evalue": "invalid syntax (<ipython-input-202-4a75d5fa47dd>, line 4)",
     "output_type": "error",
     "traceback": [
      "\u001b[0;36m  File \u001b[0;32m\"<ipython-input-202-4a75d5fa47dd>\"\u001b[0;36m, line \u001b[0;32m4\u001b[0m\n\u001b[0;31m    ax.\u001b[0m\n\u001b[0m       ^\u001b[0m\n\u001b[0;31mSyntaxError\u001b[0m\u001b[0;31m:\u001b[0m invalid syntax\n"
     ]
    }
   ],
   "source": [
    "fig = plt.figure()\n",
    "ax = fig.add_subplot(111, projection = '3d')\n",
    "\n",
    "ax."
   ]
  },
  {
   "cell_type": "code",
   "execution_count": 203,
   "metadata": {},
   "outputs": [],
   "source": [
    "from scipy.fft import fft, ifft"
   ]
  },
  {
   "cell_type": "code",
   "execution_count": 204,
   "metadata": {},
   "outputs": [
    {
     "data": {
      "text/plain": [
       "[<matplotlib.lines.Line2D at 0x7fb4a896f050>]"
      ]
     },
     "execution_count": 204,
     "metadata": {},
     "output_type": "execute_result"
    },
    {
     "data": {
      "image/png": "[encoded data removed]",
      "text/plain": [
       "<Figure size 432x288 with 1 Axes>"
      ]
     },
     "metadata": {
      "needs_background": "light"
     },
     "output_type": "display_data"
    }
   ],
   "source": [
    "plt.plot(calc_curvature(test)[10:-10])"
   ]
  },
  {
   "cell_type": "code",
   "execution_count": 205,
   "metadata": {},
   "outputs": [
    {
     "data": {
      "text/plain": [
       "0.0026196105958609444"
      ]
     },
     "execution_count": 205,
     "metadata": {},
     "output_type": "execute_result"
    }
   ],
   "source": [
    "calc_curvature(test)[100]"
   ]
  },
  {
   "cell_type": "code",
   "execution_count": null,
   "metadata": {},
   "outputs": [],
   "source": []
  },
  {
   "cell_type": "code",
   "execution_count": null,
   "metadata": {},
   "outputs": [],
   "source": []
  }
 ],
 "metadata": {
  "kernelspec": {
   "display_name": "Python 3",
   "language": "python",
   "name": "python3"
  },
  "language_info": {
   "codemirror_mode": {
    "name": "ipython",
    "version": 3
   },
   "file_extension": ".py",
   "mimetype": "text/x-python",
   "name": "python",
   "nbconvert_exporter": "python",
   "pygments_lexer": "ipython3",
   "version": "3.7.7"
  }
 },
 "nbformat": 4,
 "nbformat_minor": 4
}
